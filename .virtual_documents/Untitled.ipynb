import pandas as pd
import numpy as np


train = pd.read_csv('data/GUIDE_Train.csv')


train.head(5)


train.info()


test = pd.read_csv('data/GUIDE_Test.csv')


test.head(5)


test.info()
